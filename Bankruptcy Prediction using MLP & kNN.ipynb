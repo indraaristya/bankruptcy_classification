{
 "cells": [
  {
   "cell_type": "code",
   "execution_count": 1,
   "metadata": {},
   "outputs": [
    {
     "name": "stderr",
     "output_type": "stream",
     "text": [
      "/Users/indraaristya/anaconda3/lib/python3.6/importlib/_bootstrap.py:219: RuntimeWarning: numpy.dtype size changed, may indicate binary incompatibility. Expected 96, got 88\n",
      "  return f(*args, **kwds)\n",
      "/Users/indraaristya/anaconda3/lib/python3.6/importlib/_bootstrap.py:219: RuntimeWarning: numpy.dtype size changed, may indicate binary incompatibility. Expected 96, got 88\n",
      "  return f(*args, **kwds)\n",
      "/Users/indraaristya/anaconda3/lib/python3.6/importlib/_bootstrap.py:219: RuntimeWarning: numpy.dtype size changed, may indicate binary incompatibility. Expected 96, got 88\n",
      "  return f(*args, **kwds)\n"
     ]
    }
   ],
   "source": [
    "from scipy.io import arff\n",
    "import numpy as np\n",
    "from sklearn.metrics import accuracy_score, recall_score, precision_score, f1_score, classification_report, confusion_matrix\n",
    "from sklearn.neighbors import KNeighborsClassifier\n",
    "from sklearn.decomposition import PCA\n",
    "import matplotlib.pyplot as plt\n",
    "from scipy.spatial import distance\n",
    "import random"
   ]
  },
  {
   "cell_type": "code",
   "execution_count": 2,
   "metadata": {
    "collapsed": true
   },
   "outputs": [],
   "source": [
    "data_path = './data/1year.arff'\n",
    "data_path2 = './data/2year.arff'\n",
    "data_path3 = './data/3year.arff'\n",
    "data_path4 = './data/4year.arff'\n",
    "data_path5 = './data/5year.arff'"
   ]
  },
  {
   "cell_type": "code",
   "execution_count": 3,
   "metadata": {
    "collapsed": true
   },
   "outputs": [],
   "source": [
    "data, meta = arff.loadarff(data_path)\n",
    "data2, meta2 = arff.loadarff(data_path2)\n",
    "data3, meta3 = arff.loadarff(data_path3)\n",
    "data4, meta4 = arff.loadarff(data_path4)\n",
    "data5, meta5 = arff.loadarff(data_path5)"
   ]
  },
  {
   "cell_type": "code",
   "execution_count": 4,
   "metadata": {},
   "outputs": [
    {
     "data": {
      "text/plain": [
       "9792"
      ]
     },
     "execution_count": 4,
     "metadata": {},
     "output_type": "execute_result"
    }
   ],
   "source": [
    "len(data4)"
   ]
  },
  {
   "cell_type": "code",
   "execution_count": 5,
   "metadata": {
    "collapsed": true
   },
   "outputs": [],
   "source": [
    "def euclidean(x1,x2):\n",
    "     return distance.euclidean(x1, x2)\n",
    "    \n",
    "def knn(x_t,x):\n",
    "    new_data = np.zeros(len(x))\n",
    "    dist = []\n",
    "    for i in range(len(x_t)):\n",
    "        dist.append(euclidean(x,x_t[i]))\n",
    "    indexSorted = np.argsort(dist)\n",
    "    for i in range(0,len(x)):\n",
    "        v = [x_t[indexSorted[0]][i],x_t[indexSorted[1]][i],x_t[indexSorted[2]][i],x_t[indexSorted[4]][i]]\n",
    "        new_data[i] = np.mean(v)\n",
    "    return new_data\n",
    "\n",
    "def handle_imbalance(x_yes, x_no, y_yes):\n",
    "    x = x_yes\n",
    "    y = y_yes\n",
    "    index = np.arange(len(x_yes))\n",
    "    index = list(index)\n",
    "    while len(x) < len(x_no)/2:\n",
    "        idx = random.choice(index)\n",
    "        x.append(knn(x_yes,x_yes[idx]))\n",
    "        y.append(str(int(1)))\n",
    "    return x,y"
   ]
  },
  {
   "cell_type": "code",
   "execution_count": 6,
   "metadata": {
    "collapsed": true
   },
   "outputs": [],
   "source": [
    "arr = np.array(data4)\n",
    "randomize = np.arange(len(arr))\n",
    "np.random.shuffle(randomize)\n",
    "np.random.shuffle(randomize)\n",
    "arr = arr[randomize].tolist()\n",
    "\n",
    "train_data = arr[:6000]\n",
    "valid_data = arr[6000:9792]\n",
    "\n",
    "x_train = []\n",
    "y_train = []\n",
    "x_valid = []\n",
    "y_valid = []"
   ]
  },
  {
   "cell_type": "code",
   "execution_count": 7,
   "metadata": {
    "collapsed": true
   },
   "outputs": [],
   "source": [
    "for i in range(0,len(train_data)):\n",
    "    y = np.array(train_data[i],dtype='float32')\n",
    "    y = np.nan_to_num(y).tolist()\n",
    "    y_train.append(str(int(y[64])))\n",
    "    y.pop()\n",
    "    x_train.append(y)\n",
    "x_train = np.array(x_train)\n",
    "\n",
    "for i in range(0,len(valid_data)):\n",
    "    y = np.array(valid_data[i],dtype='float32')\n",
    "    y = np.nan_to_num(y).tolist()\n",
    "    y_valid.append(str(int(y[64])))\n",
    "    y.pop()\n",
    "    x_valid.append(y)\n",
    "x_valid = np.array(x_valid)"
   ]
  },
  {
   "cell_type": "code",
   "execution_count": 8,
   "metadata": {
    "collapsed": true
   },
   "outputs": [],
   "source": [
    "x_train_yes = []\n",
    "y_train_yes = []\n",
    "x_train_no = []\n",
    "y_train_no = []\n",
    "\n",
    "for i in range(0, len(x_train)):\n",
    "    if y_train[i] == '1':\n",
    "        x_train_yes.append(x_train[i])\n",
    "        y_train_yes.append(y_train[i])\n",
    "    else:\n",
    "        x_train_no.append(x_train[i])\n",
    "        y_train_no.append(y_train[i])"
   ]
  },
  {
   "cell_type": "code",
   "execution_count": 9,
   "metadata": {
    "collapsed": true
   },
   "outputs": [],
   "source": [
    "im_x, im_y = handle_imbalance(x_train_yes,x_train_no,y_train_yes)"
   ]
  },
  {
   "cell_type": "code",
   "execution_count": 10,
   "metadata": {
    "collapsed": true
   },
   "outputs": [],
   "source": [
    "x_train_us = np.concatenate((x_train_no,im_x))\n",
    "y_train_us = np.concatenate((y_train_no,im_y))"
   ]
  },
  {
   "cell_type": "code",
   "execution_count": 11,
   "metadata": {
    "collapsed": true
   },
   "outputs": [],
   "source": [
    "randomize = np.arange(len(x_train_us))\n",
    "np.random.shuffle(randomize)\n",
    "np.random.shuffle(randomize)\n",
    "x_train_us = x_train_us[randomize]\n",
    "y_train_us = y_train_us[randomize]"
   ]
  },
  {
   "cell_type": "code",
   "execution_count": 12,
   "metadata": {},
   "outputs": [
    {
     "data": {
      "text/plain": [
       "PCA(copy=True, iterated_power='auto', n_components=30, random_state=None,\n",
       "  svd_solver='auto', tol=0.0, whiten=False)"
      ]
     },
     "execution_count": 12,
     "metadata": {},
     "output_type": "execute_result"
    }
   ],
   "source": [
    "pca = PCA(n_components=30)\n",
    "pca.fit(x_train)"
   ]
  },
  {
   "cell_type": "code",
   "execution_count": 13,
   "metadata": {
    "collapsed": true
   },
   "outputs": [],
   "source": [
    "x_train = pca.transform(x_train)\n",
    "x_valid = pca.transform(x_valid)\n",
    "x_train_us = pca.transform(x_train_us)"
   ]
  },
  {
   "cell_type": "markdown",
   "metadata": {},
   "source": [
    "### k-NN dengan Oversampling"
   ]
  },
  {
   "cell_type": "code",
   "execution_count": 14,
   "metadata": {},
   "outputs": [
    {
     "name": "stdout",
     "output_type": "stream",
     "text": [
      "1    Acc:  0.852584388185654  || Precision:  0.5092692700423027  || Recall:  0.5177924610914302  || F1-Score:  0.5068839230277304\n",
      "2    Acc:  0.8889767932489452  || Precision:  0.5128683486661139  || Recall:  0.5161042155354277  || F1-Score:  0.5138317929483878\n",
      "3    Acc:  0.8465189873417721  || Precision:  0.5261818207297723  || Recall:  0.5564155389964135  || F1-Score:  0.5274015548390855\n",
      "4    Acc:  0.8578586497890295  || Precision:  0.5261269276393832  || Recall:  0.5507873675310575  || F1-Score:  0.5287000285700911\n",
      "5    Acc:  0.8314873417721519  || Precision:  0.5360317780226472  || Recall:  0.5903019214430519  || F1-Score:  0.5376434793974509\n",
      "6    Acc:  0.8412447257383966  || Precision:  0.535958066436018  || Recall:  0.5838378625438704  || F1-Score:  0.539237730614868\n",
      "7    Acc:  0.8130274261603375  || Precision:  0.5330416136073327  || Recall:  0.5921685994561927  || F1-Score:  0.5298144548414091\n",
      "8    Acc:  0.8270042194092827  || Precision:  0.5358529980040769  || Recall:  0.5925810529436552  || F1-Score:  0.5365322343244039\n",
      "9    Acc:  0.7943037974683544  || Precision:  0.5348234417044483  || Recall:  0.6078384005863565  || F1-Score:  0.5272700073072918\n",
      "10    Acc:  0.8090717299578059  || Precision:  0.5361045063877772  || Recall:  0.604021318560956  || F1-Score:  0.5327925764370491\n"
     ]
    }
   ],
   "source": [
    "kx = np.arange(1,11)\n",
    "acc_knns_us = []\n",
    "for k in kx:\n",
    "    neigh = KNeighborsClassifier(n_neighbors=k)\n",
    "    neigh.fit(x_train_us, y_train_us) \n",
    "    knn_predict = neigh.predict(x_valid)\n",
    "\n",
    "    cm_knn = confusion_matrix(y_valid, knn_predict)\n",
    "    acc_knn = accuracy_score(y_valid, knn_predict)\n",
    "    recall_knn = recall_score(y_valid, knn_predict,average='macro')\n",
    "    precision_knn = precision_score(y_valid, knn_predict,average='macro')\n",
    "    f1_knn = f1_score(y_valid, knn_predict,average='macro')\n",
    "    print(str(k),\" \",\" Acc: \",str(acc_knn), \" || Precision: \",str(precision_knn),\" || Recall: \",str(recall_knn),\" || F1-Score: \",str(f1_knn))\n",
    "    acc_knns_us.append(acc_knn*100)"
   ]
  },
  {
   "cell_type": "code",
   "execution_count": 15,
   "metadata": {},
   "outputs": [
    {
     "name": "stdout",
     "output_type": "stream",
     "text": [
      "Acc:  88.89767932489451 %\n",
      "F1:  88.89767932489451 %\n",
      "==============================\n",
      "Report\n",
      "              precision    recall  f1-score   support\n",
      "\n",
      "           0       0.96      0.83      0.89      3589\n",
      "           1       0.11      0.37      0.17       203\n",
      "\n",
      "   micro avg       0.81      0.81      0.81      3792\n",
      "   macro avg       0.54      0.60      0.53      3792\n",
      "weighted avg       0.91      0.81      0.85      3792\n",
      "\n"
     ]
    }
   ],
   "source": [
    "print(\"Acc: \",str(max(acc_knns_us)),'%')\n",
    "print(\"F1: \",str(max(acc_knns_us)),'%')\n",
    "print(\"==============================\")\n",
    "print(\"Report\")\n",
    "print(classification_report(y_valid, knn_predict, target_names=['0','1']))"
   ]
  },
  {
   "cell_type": "code",
   "execution_count": 16,
   "metadata": {},
   "outputs": [
    {
     "data": {
      "text/plain": [
       "array([[2992,  597],\n",
       "       [ 127,   76]])"
      ]
     },
     "execution_count": 16,
     "metadata": {},
     "output_type": "execute_result"
    }
   ],
   "source": [
    "confusion_matrix(y_valid, knn_predict)"
   ]
  },
  {
   "cell_type": "markdown",
   "metadata": {},
   "source": [
    "### kNN tanpa oversampling"
   ]
  },
  {
   "cell_type": "code",
   "execution_count": 17,
   "metadata": {},
   "outputs": [
    {
     "name": "stdout",
     "output_type": "stream",
     "text": [
      "1    Acc:  0.9032172995780591  || Precision:  0.5192483296213809  || Recall:  0.5189797232100822  || F1-Score:  0.5191114683323065\n",
      "2    Acc:  0.9430379746835443  || Precision:  0.5524432602842915  || Recall:  0.5051601294047081  || F1-Score:  0.4988435868631467\n",
      "3    Acc:  0.9369725738396625  || Precision:  0.5438107963655798  || Recall:  0.5112508527012615  || F1-Score:  0.5113673430766418\n",
      "4    Acc:  0.945675105485232  || Precision:  0.6555023923444976  || Recall:  0.5088770147426387  || F1-Score:  0.5047160121229028\n",
      "5    Acc:  0.9430379746835443  || Precision:  0.5824287378730375  || Recall:  0.5098076086344838  || F1-Score:  0.5074459922016131\n",
      "6    Acc:  0.9467299578059072  || Precision:  0.7735938737787167  || Recall:  0.5071105334169679  || F1-Score:  0.5007300183547472\n",
      "7    Acc:  0.9454113924050633  || Precision:  0.6403439153439153  || Recall:  0.5087377001703344  || F1-Score:  0.504559326152613\n",
      "8    Acc:  0.9462025316455697  || Precision:  0.6734618431476103  || Recall:  0.5045081646574715  || F1-Score:  0.49578675120974475\n",
      "9    Acc:  0.9459388185654009  || Precision:  0.640121500264131  || Recall:  0.5043688500851672  || F1-Score:  0.49567107290568485\n",
      "10    Acc:  0.9459388185654009  || Precision:  0.4732189973614776  || Recall:  0.4997213708553915  || F1-Score:  0.4861092288928039\n"
     ]
    }
   ],
   "source": [
    "kx = np.arange(1,11)\n",
    "acc_knns = []\n",
    "for k in kx:\n",
    "    neigh = KNeighborsClassifier(n_neighbors=k)\n",
    "    neigh.fit(x_train, y_train) \n",
    "    knn_predict = neigh.predict(x_valid)\n",
    "\n",
    "    cm_knn = confusion_matrix(y_valid, knn_predict)\n",
    "    acc_knn = accuracy_score(y_valid, knn_predict)\n",
    "    recall_knn = recall_score(y_valid, knn_predict,average='macro')\n",
    "    precision_knn = precision_score(y_valid, knn_predict,average='macro')\n",
    "    f1_knn = f1_score(y_valid, knn_predict,average='macro')\n",
    "    print(str(k),\" \",\" Acc: \",str(acc_knn), \" || Precision: \",str(precision_knn),\" || Recall: \",str(recall_knn),\" || F1-Score: \",str(f1_knn))\n",
    "    acc_knns.append(acc_knn*100)"
   ]
  },
  {
   "cell_type": "code",
   "execution_count": 18,
   "metadata": {},
   "outputs": [
    {
     "name": "stdout",
     "output_type": "stream",
     "text": [
      "Acc:  94.67299578059072 %\n",
      "F1:  94.67299578059072 %\n",
      "==============================\n",
      "Report\n",
      "              precision    recall  f1-score   support\n",
      "\n",
      "           0       0.95      1.00      0.97      3589\n",
      "           1       0.00      0.00      0.00       203\n",
      "\n",
      "   micro avg       0.95      0.95      0.95      3792\n",
      "   macro avg       0.47      0.50      0.49      3792\n",
      "weighted avg       0.90      0.95      0.92      3792\n",
      "\n"
     ]
    }
   ],
   "source": [
    "print(\"Acc: \",str(max(acc_knns)),'%')\n",
    "print(\"F1: \",str(max(acc_knns)),'%')\n",
    "print(\"==============================\")\n",
    "print(\"Report\")\n",
    "print(classification_report(y_valid, knn_predict, target_names=['0','1']))"
   ]
  },
  {
   "cell_type": "code",
   "execution_count": 19,
   "metadata": {},
   "outputs": [
    {
     "data": {
      "text/plain": [
       "array([[3587,    2],\n",
       "       [ 203,    0]])"
      ]
     },
     "execution_count": 19,
     "metadata": {},
     "output_type": "execute_result"
    }
   ],
   "source": [
    "confusion_matrix(y_valid, knn_predict)"
   ]
  },
  {
   "cell_type": "markdown",
   "metadata": {},
   "source": [
    "### Perbandingan Nilai Akurasi setiap k pada kNN tanpa oversampling"
   ]
  },
  {
   "cell_type": "code",
   "execution_count": 20,
   "metadata": {
    "collapsed": true
   },
   "outputs": [],
   "source": [
    "max_idx = np.argsort(acc_knns)"
   ]
  },
  {
   "cell_type": "code",
   "execution_count": 21,
   "metadata": {},
   "outputs": [
    {
     "data": {
      "image/png": "[encoded data removed]",
      "text/plain": [
       "<matplotlib.figure.Figure at 0x1a1b29ecc0>"
      ]
     },
     "metadata": {},
     "output_type": "display_data"
    }
   ],
   "source": [
    "objects = np.arange(1,11)\n",
    "y_pos = np.arange(len(objects))\n",
    " \n",
    "plt.bar(y_pos, acc_knns ,align='center', alpha=0.5)\n",
    "plt.xticks(y_pos, objects)\n",
    "plt.ylabel('Acc')\n",
    "plt.title('Perbandingan Nilai Akurasi')\n",
    " \n",
    "plt.show()"
   ]
  },
  {
   "cell_type": "markdown",
   "metadata": {},
   "source": [
    "### Perbandingan Nilai Akurasi setiap k pada kNN dengan oversampling"
   ]
  },
  {
   "cell_type": "code",
   "execution_count": 22,
   "metadata": {},
   "outputs": [
    {
     "data": {
      "image/png": "[encoded data removed]",
      "text/plain": [
       "<matplotlib.figure.Figure at 0x1a1b724208>"
      ]
     },
     "metadata": {},
     "output_type": "display_data"
    }
   ],
   "source": [
    "objects = np.arange(1,11)\n",
    "y_pos = np.arange(len(objects))\n",
    " \n",
    "plt.bar(y_pos, acc_knns_us ,align='center', alpha=0.5)\n",
    "plt.xticks(y_pos, objects)\n",
    "plt.ylabel('Acc')\n",
    "plt.title('Perbandingan Nilai Akurasi')\n",
    " \n",
    "plt.show()"
   ]
  },
  {
   "cell_type": "markdown",
   "metadata": {},
   "source": [
    "### MLP tanpa oversampling"
   ]
  },
  {
   "cell_type": "code",
   "execution_count": 23,
   "metadata": {},
   "outputs": [
    {
     "name": "stdout",
     "output_type": "stream",
     "text": [
      "Acc:  0.7631856540084389  || Precision:  0.5264742306568414  || Recall:  0.5913992810544535  || F1-Score:  0.5075922862464283\n"
     ]
    }
   ],
   "source": [
    "from sklearn.neural_network import MLPClassifier\n",
    "mlp = MLPClassifier()\n",
    "mlp.fit(x_train,y_train)\n",
    "predictions = mlp.predict(x_valid)\n",
    "cm_mlp = confusion_matrix(y_valid, predictions)\n",
    "acc_mlp = accuracy_score(y_valid, predictions)\n",
    "recall_mlp = recall_score(y_valid, predictions,average='macro')\n",
    "precision_mlp = precision_score(y_valid, predictions,average='macro')\n",
    "f1_mlp = f1_score(y_valid, predictions,average='macro')\n",
    "print(\"Acc: \",str(acc_mlp), \" || Precision: \",str(precision_mlp),\" || Recall: \",str(recall_mlp),\" || F1-Score: \",str(f1_mlp))\n"
   ]
  },
  {
   "cell_type": "markdown",
   "metadata": {},
   "source": [
    "### MLP dengan oversampling"
   ]
  },
  {
   "cell_type": "code",
   "execution_count": 24,
   "metadata": {},
   "outputs": [
    {
     "name": "stdout",
     "output_type": "stream",
     "text": [
      "Acc:  0.7631856540084389  || Precision:  0.5264742306568414  || Recall:  0.5913992810544535  || F1-Score:  0.5075922862464283\n"
     ]
    }
   ],
   "source": [
    "from sklearn.neural_network import MLPClassifier\n",
    "mlp_us = MLPClassifier()\n",
    "mlp_us.fit(x_train_us,y_train_us)\n",
    "predictions_us = mlp.predict(x_valid)\n",
    "cm_mlp_us = confusion_matrix(y_valid, predictions_us)\n",
    "acc_mlp_us = accuracy_score(y_valid, predictions_us)\n",
    "recall_mlp_us = recall_score(y_valid, predictions_us,average='macro')\n",
    "precision_mlp_us = precision_score(y_valid, predictions_us,average='macro')\n",
    "f1_mlp_us = f1_score(y_valid, predictions_us,average='macro')\n",
    "print(\"Acc: \",str(acc_mlp_us), \" || Precision: \",str(precision_mlp_us),\" || Recall: \",str(recall_mlp_us),\" || F1-Score: \",str(f1_mlp_us))"
   ]
  },
  {
   "cell_type": "markdown",
   "metadata": {},
   "source": [
    "### Perbandingan Nilai Akurasi pada MLP tanpa oversampling dan dengan oversampling"
   ]
  },
  {
   "cell_type": "code",
   "execution_count": 25,
   "metadata": {},
   "outputs": [
    {
     "data": {
      "image/png": "[encoded data removed]",
      "text/plain": [
       "<matplotlib.figure.Figure at 0x1a181bf748>"
      ]
     },
     "metadata": {},
     "output_type": "display_data"
    }
   ],
   "source": [
    "objects = ['MLP', 'MLP US']\n",
    "y_pos = np.arange(len(objects))\n",
    " \n",
    "plt.bar(y_pos, [acc_mlp*100, acc_mlp_us*100] ,align='center', alpha=0.5)\n",
    "plt.xticks(y_pos, objects)\n",
    "plt.ylabel('Acc')\n",
    "plt.title('Perbandingan Nilai Akurasi')\n",
    " \n",
    "plt.show()"
   ]
  },
  {
   "cell_type": "code",
   "execution_count": null,
   "metadata": {
    "collapsed": true
   },
   "outputs": [],
   "source": []
  },
  {
   "cell_type": "code",
   "execution_count": null,
   "metadata": {
    "collapsed": true
   },
   "outputs": [],
   "source": []
  }
 ],
 "metadata": {
  "kernelspec": {
   "display_name": "Python 3",
   "language": "python",
   "name": "python3"
  },
  "language_info": {
   "codemirror_mode": {
    "name": "ipython",
    "version": 3
   },
   "file_extension": ".py",
   "mimetype": "text/x-python",
   "name": "python",
   "nbconvert_exporter": "python",
   "pygments_lexer": "ipython3",
   "version": "3.6.3"
  }
 },
 "nbformat": 4,
 "nbformat_minor": 2
}
