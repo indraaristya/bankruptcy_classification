{
 "cells": [
  {
   "cell_type": "code",
   "execution_count": 1,
   "metadata": {},
   "outputs": [
    {
     "name": "stderr",
     "output_type": "stream",
     "text": [
      "/Users/indraaristya/anaconda3/lib/python3.6/importlib/_bootstrap.py:219: RuntimeWarning: numpy.dtype size changed, may indicate binary incompatibility. Expected 96, got 88\n",
      "  return f(*args, **kwds)\n",
      "/Users/indraaristya/anaconda3/lib/python3.6/importlib/_bootstrap.py:219: RuntimeWarning: numpy.dtype size changed, may indicate binary incompatibility. Expected 96, got 88\n",
      "  return f(*args, **kwds)\n",
      "/Users/indraaristya/anaconda3/lib/python3.6/importlib/_bootstrap.py:219: RuntimeWarning: numpy.dtype size changed, may indicate binary incompatibility. Expected 96, got 88\n",
      "  return f(*args, **kwds)\n"
     ]
    }
   ],
   "source": [
    "from scipy.io import arff\n",
    "import numpy as np\n",
    "from sklearn.metrics import accuracy_score, recall_score, precision_score, f1_score, classification_report, confusion_matrix\n",
    "from sklearn import svm\n",
    "from sklearn.svm import SVC\n",
    "from sklearn.neighbors import KNeighborsClassifier\n",
    "from sklearn.decomposition import PCA\n",
    "import matplotlib.pyplot as plt\n",
    "from scipy.spatial import distance\n",
    "import random"
   ]
  },
  {
   "cell_type": "code",
   "execution_count": 2,
   "metadata": {
    "collapsed": true
   },
   "outputs": [],
   "source": [
    "data_path = './data/1year.arff'\n",
    "data_path2 = './data/2year.arff'\n",
    "data_path3 = './data/3year.arff'\n",
    "data_path4 = './data/4year.arff'\n",
    "data_path5 = './data/5year.arff'"
   ]
  },
  {
   "cell_type": "code",
   "execution_count": 3,
   "metadata": {
    "collapsed": true
   },
   "outputs": [],
   "source": [
    "data, meta = arff.loadarff(data_path)\n",
    "data2, meta2 = arff.loadarff(data_path2)\n",
    "data3, meta3 = arff.loadarff(data_path3)\n",
    "data4, meta4 = arff.loadarff(data_path4)\n",
    "data5, meta5 = arff.loadarff(data_path5)"
   ]
  },
  {
   "cell_type": "code",
   "execution_count": 4,
   "metadata": {},
   "outputs": [
    {
     "data": {
      "text/plain": [
       "7027"
      ]
     },
     "execution_count": 4,
     "metadata": {},
     "output_type": "execute_result"
    }
   ],
   "source": [
    "len(data)"
   ]
  },
  {
   "cell_type": "code",
   "execution_count": 5,
   "metadata": {
    "collapsed": true
   },
   "outputs": [],
   "source": [
    "def euclidean(x1,x2):\n",
    "     return distance.euclidean(x1, x2)\n",
    "    \n",
    "def knn(x_t,x):\n",
    "    new_data = np.zeros(len(x))\n",
    "    dist = []\n",
    "    for i in range(len(x_t)):\n",
    "        dist.append(euclidean(x,x_t[i]))\n",
    "    indexSorted = np.argsort(dist)\n",
    "    for i in range(0,len(x)):\n",
    "        v = [x_t[indexSorted[0]][i],x_t[indexSorted[1]][i],x_t[indexSorted[2]][i],x_t[indexSorted[4]][i]]\n",
    "        new_data[i] = np.mean(v)\n",
    "    return new_data\n",
    "\n",
    "def handle_imbalance(x_yes, x_no, y_yes):\n",
    "    x = x_yes\n",
    "    y = y_yes\n",
    "    index = np.arange(len(x_yes))\n",
    "    index = list(index)\n",
    "    while len(x) < len(x_no)/2:\n",
    "        idx = random.choice(index)\n",
    "        x.append(knn(x_yes,x_yes[idx]))\n",
    "        y.append(str(int(1)))\n",
    "    return x,y"
   ]
  },
  {
   "cell_type": "code",
   "execution_count": 6,
   "metadata": {
    "collapsed": true
   },
   "outputs": [],
   "source": [
    "arr = np.array(data)\n",
    "randomize = np.arange(len(arr))\n",
    "np.random.shuffle(randomize)\n",
    "arr = arr[randomize].tolist()\n",
    "\n",
    "train_data = arr[:6000]\n",
    "valid_data = arr[6000:7027]\n",
    "\n",
    "x_train = []\n",
    "y_train = []\n",
    "x_valid = []\n",
    "y_valid = []"
   ]
  },
  {
   "cell_type": "code",
   "execution_count": 7,
   "metadata": {
    "collapsed": true
   },
   "outputs": [],
   "source": [
    "for i in range(0,len(train_data)):\n",
    "    y = np.array(train_data[i],dtype='float32')\n",
    "    y = np.nan_to_num(y).tolist()\n",
    "    y_train.append(str(int(y[64])))\n",
    "    y.pop()\n",
    "    x_train.append(y)\n",
    "x_train = np.array(x_train)\n",
    "\n",
    "for i in range(0,len(valid_data)):\n",
    "    y = np.array(valid_data[i],dtype='float32')\n",
    "    y = np.nan_to_num(y).tolist()\n",
    "    y_valid.append(str(int(y[64])))\n",
    "    y.pop()\n",
    "    x_valid.append(y)\n",
    "x_valid = np.array(x_valid)"
   ]
  },
  {
   "cell_type": "code",
   "execution_count": 8,
   "metadata": {
    "collapsed": true
   },
   "outputs": [],
   "source": [
    "x_train_yes = []\n",
    "y_train_yes = []\n",
    "x_train_no = []\n",
    "y_train_no = []\n",
    "\n",
    "for i in range(0, len(x_train)):\n",
    "    if y_train[i] == '1':\n",
    "        x_train_yes.append(x_train[i])\n",
    "        y_train_yes.append(y_train[i])\n",
    "    else:\n",
    "        x_train_no.append(x_train[i])\n",
    "        y_train_no.append(y_train[i])"
   ]
  },
  {
   "cell_type": "code",
   "execution_count": 9,
   "metadata": {
    "collapsed": true
   },
   "outputs": [],
   "source": [
    "im_x, im_y = handle_imbalance(x_train_yes,x_train_no,y_train_yes)"
   ]
  },
  {
   "cell_type": "code",
   "execution_count": 10,
   "metadata": {
    "collapsed": true
   },
   "outputs": [],
   "source": [
    "x_train_us = np.concatenate((x_train_no,im_x))\n",
    "y_train_us = np.concatenate((y_train_no,im_y))"
   ]
  },
  {
   "cell_type": "code",
   "execution_count": 11,
   "metadata": {},
   "outputs": [
    {
     "data": {
      "text/plain": [
       "PCA(copy=True, iterated_power='auto', n_components=30, random_state=None,\n",
       "  svd_solver='auto', tol=0.0, whiten=False)"
      ]
     },
     "execution_count": 11,
     "metadata": {},
     "output_type": "execute_result"
    }
   ],
   "source": [
    "pca = PCA(n_components=30)\n",
    "pca.fit(x_train)"
   ]
  },
  {
   "cell_type": "code",
   "execution_count": 12,
   "metadata": {
    "collapsed": true
   },
   "outputs": [],
   "source": [
    "x_train = pca.transform(x_train)\n",
    "x_valid = pca.transform(x_valid)\n",
    "x_train_us = pca.transform(x_train_us)"
   ]
  },
  {
   "cell_type": "markdown",
   "metadata": {},
   "source": [
    "### SVM - Linear"
   ]
  },
  {
   "cell_type": "code",
   "execution_count": 13,
   "metadata": {
    "collapsed": true
   },
   "outputs": [],
   "source": [
    "# linear_clf = SVC(kernel='linear')\n",
    "# linear_clf.fit(x_train, y_train)\n",
    "# linear_predict_label = linear_clf.predict(x_valid)\n",
    "# linear_acc = accuracy_score(y_valid, linear_predict_label)\n",
    "# linear_f1 = f1_score(y_valid, linear_predict_label,\n",
    "#                average='macro')\n",
    "# linear_report = classification_report(y_valid, linear_predict_label, target_names=['0','1'])"
   ]
  },
  {
   "cell_type": "code",
   "execution_count": 14,
   "metadata": {
    "collapsed": true
   },
   "outputs": [],
   "source": [
    "# print(\"Acc: \",str(linear_acc*100),'%')\n",
    "# print(\"F1: \",str(linear_f1*100),'%')\n",
    "# print(\"==============================\")\n",
    "# print(\"Report\")\n",
    "# print(linear_report)"
   ]
  },
  {
   "cell_type": "markdown",
   "metadata": {},
   "source": [
    "### SVM - RBF"
   ]
  },
  {
   "cell_type": "code",
   "execution_count": 15,
   "metadata": {
    "collapsed": true
   },
   "outputs": [],
   "source": [
    "# rbf_clf = SVC(kernel='rbf')\n",
    "# rbf_clf.fit(x_train, y_train)\n",
    "# rbf_predict_label = rbf_clf.predict(x_valid)\n",
    "# rbf_acc = accuracy_score(y_valid, rbf_predict_label)\n",
    "# rbf_f1 = f1_score(y_valid, rbf_predict_label,\n",
    "#                average='macro')\n",
    "# # rbf_report = classification_report(y_valid, rbf_predict_label, target_names=['0','1'])"
   ]
  },
  {
   "cell_type": "code",
   "execution_count": 16,
   "metadata": {
    "collapsed": true
   },
   "outputs": [],
   "source": [
    "# print(\"Acc: \",str(rbf_acc*100),'%')\n",
    "# print(\"F1: \",str(rbf_f1*100),'%')\n",
    "# print(\"==============================\")\n",
    "# print(\"Report\")\n",
    "# # print(rbf_report)"
   ]
  },
  {
   "cell_type": "markdown",
   "metadata": {},
   "source": [
    "### SVM - Polynomial"
   ]
  },
  {
   "cell_type": "code",
   "execution_count": 17,
   "metadata": {
    "collapsed": true
   },
   "outputs": [],
   "source": [
    "# poly_clf = SVC(kernel='poly')\n",
    "# poly_clf.fit(x_train, y_train)\n",
    "# poly_predict_label = poly_clf.predict(x_valid)\n",
    "# poly_acc = accuracy_score(y_valid, poly_predict_label)\n",
    "# poly_f1 = f1_score(y_valid, poly_predict_label,\n",
    "#                average='macro')\n",
    "# poly_report = classification_report(y_valid, poly_predict_label, target_names=['0','1'])"
   ]
  },
  {
   "cell_type": "code",
   "execution_count": 18,
   "metadata": {
    "collapsed": true
   },
   "outputs": [],
   "source": [
    "# print(\"Acc: \",str(poly_acc*100),'%')\n",
    "# print(\"F1: \",str(poly_f1*100),'%')\n",
    "# print(\"==============================\")\n",
    "# print(\"Report\")\n",
    "# print(poly_report)"
   ]
  },
  {
   "cell_type": "markdown",
   "metadata": {},
   "source": [
    "### k-NN"
   ]
  },
  {
   "cell_type": "code",
   "execution_count": 19,
   "metadata": {},
   "outputs": [
    {
     "name": "stdout",
     "output_type": "stream",
     "text": [
      "1    Acc:  0.8636806231742941  || Precision:  0.49723132854200813  || Recall:  0.4940371124688844  || F1-Score:  0.490300899010238\n",
      "2    Acc:  0.8987341772151899  || Precision:  0.5012474012474013  || Recall:  0.501765105227427  || F1-Score:  0.5005237560793117\n",
      "3    Acc:  0.8471275559883155  || Precision:  0.5025988640017147  || Recall:  0.5065852002715546  || F1-Score:  0.4938583962456642\n",
      "4    Acc:  0.866601752677702  || Precision:  0.5077193932827735  || Recall:  0.5167684996605567  || F1-Score:  0.5043104511264951\n",
      "5    Acc:  0.8412852969814996  || Precision:  0.5270188435887756  || Recall:  0.5777438334464811  || F1-Score:  0.5250833368795835\n",
      "6    Acc:  0.8558909444985394  || Precision:  0.5289107611548557  || Recall:  0.5747793618465716  || F1-Score:  0.5304475693843759\n",
      "7    Acc:  0.8315481986368062  || Precision:  0.5270761576731726  || Recall:  0.5832541298936411  || F1-Score:  0.5229706835493337\n",
      "8    Acc:  0.8432327166504382  || Precision:  0.5310573172266264  || Recall:  0.5893641095270423  || F1-Score:  0.5309105352000794\n",
      "9    Acc:  0.8179162609542356  || Precision:  0.5230901228636146  || Recall:  0.5761258203213397  || F1-Score:  0.5142734296951074\n",
      "10    Acc:  0.8315481986368062  || Precision:  0.5270761576731726  || Recall:  0.5832541298936411  || F1-Score:  0.5229706835493337\n"
     ]
    }
   ],
   "source": [
    "kx = np.arange(1,11)\n",
    "acc_knns_us = []\n",
    "for k in kx:\n",
    "    neigh = KNeighborsClassifier(n_neighbors=k)\n",
    "    neigh.fit(x_train_us, y_train_us) \n",
    "    knn_predict = neigh.predict(x_valid)\n",
    "\n",
    "    cm_knn = confusion_matrix(y_valid, knn_predict)\n",
    "    acc_knn = accuracy_score(y_valid, knn_predict)\n",
    "    recall_knn = recall_score(y_valid, knn_predict,average='macro')\n",
    "    precision_knn = precision_score(y_valid, knn_predict,average='macro')\n",
    "    f1_knn = f1_score(y_valid, knn_predict,average='macro')\n",
    "    print(str(k),\" \",\" Acc: \",str(acc_knn), \" || Precision: \",str(precision_knn),\" || Recall: \",str(recall_knn),\" || F1-Score: \",str(f1_knn))\n",
    "    acc_knns_us.append(acc_knn*100)"
   ]
  },
  {
   "cell_type": "code",
   "execution_count": 21,
   "metadata": {},
   "outputs": [
    {
     "name": "stdout",
     "output_type": "stream",
     "text": [
      "Acc:  89.87341772151899 %\n",
      "F1:  89.87341772151899 %\n",
      "==============================\n",
      "Report\n",
      "              precision    recall  f1-score   support\n",
      "\n",
      "           0       0.96      0.86      0.91       982\n",
      "           1       0.09      0.31      0.14        45\n",
      "\n",
      "   micro avg       0.83      0.83      0.83      1027\n",
      "   macro avg       0.53      0.58      0.52      1027\n",
      "weighted avg       0.93      0.83      0.87      1027\n",
      "\n"
     ]
    }
   ],
   "source": [
    "print(\"Acc: \",str(max(acc_knns_us)),'%')\n",
    "print(\"F1: \",str(max(acc_knns_us)),'%')\n",
    "print(\"==============================\")\n",
    "print(\"Report\")\n",
    "print(classification_report(y_valid, knn_predict, target_names=['0','1']))"
   ]
  },
  {
   "cell_type": "code",
   "execution_count": 22,
   "metadata": {},
   "outputs": [
    {
     "data": {
      "text/plain": [
       "array([[840, 142],\n",
       "       [ 31,  14]])"
      ]
     },
     "execution_count": 22,
     "metadata": {},
     "output_type": "execute_result"
    }
   ],
   "source": [
    "confusion_matrix(y_valid, knn_predict)"
   ]
  },
  {
   "cell_type": "code",
   "execution_count": 23,
   "metadata": {},
   "outputs": [
    {
     "name": "stdout",
     "output_type": "stream",
     "text": [
      "1    Acc:  0.9104186952288218  || Precision:  0.4877091941070907  || Recall:  0.48667119257750624  || F1-Score:  0.48716891011723834\n",
      "2    Acc:  0.952288218111003  || Precision:  0.4780058651026393  || Recall:  0.4979633401221996  || F1-Score:  0.48778054862842896\n",
      "3    Acc:  0.9493670886075949  || Precision:  0.533944553590919  || Recall:  0.5070377913555103  || F1-Score:  0.5055185185185185\n",
      "4    Acc:  0.9513145082765336  || Precision:  0.4779843444227006  || Recall:  0.4974541751527495  || F1-Score:  0.4875249500998004\n",
      "5    Acc:  0.9493670886075949  || Precision:  0.47794117647058826  || Recall:  0.4964358452138493  || F1-Score:  0.487012987012987\n",
      "6    Acc:  0.9532619279454723  || Precision:  0.47802734375  || Recall:  0.4984725050916497  || F1-Score:  0.48803589232303096\n",
      "7    Acc:  0.9532619279454723  || Precision:  0.47802734375  || Recall:  0.4984725050916497  || F1-Score:  0.48803589232303096\n",
      "8    Acc:  0.9552093476144109  || Precision:  0.4780701754385965  || Recall:  0.4994908350305499  || F1-Score:  0.48854581673306774\n",
      "9    Acc:  0.9552093476144109  || Precision:  0.4780701754385965  || Recall:  0.4994908350305499  || F1-Score:  0.48854581673306774\n",
      "10    Acc:  0.9561830574488802  || Precision:  0.4780915287244401  || Recall:  0.5  || F1-Score:  0.48880039820806376\n"
     ]
    },
    {
     "name": "stderr",
     "output_type": "stream",
     "text": [
      "/Users/indraaristya/anaconda3/lib/python3.6/site-packages/sklearn/metrics/classification.py:1143: UndefinedMetricWarning: Precision is ill-defined and being set to 0.0 in labels with no predicted samples.\n",
      "  'precision', 'predicted', average, warn_for)\n",
      "/Users/indraaristya/anaconda3/lib/python3.6/site-packages/sklearn/metrics/classification.py:1143: UndefinedMetricWarning: F-score is ill-defined and being set to 0.0 in labels with no predicted samples.\n",
      "  'precision', 'predicted', average, warn_for)\n"
     ]
    }
   ],
   "source": [
    "kx = np.arange(1,11)\n",
    "acc_knns = []\n",
    "for k in kx:\n",
    "    neigh = KNeighborsClassifier(n_neighbors=k)\n",
    "    neigh.fit(x_train, y_train) \n",
    "    knn_predict = neigh.predict(x_valid)\n",
    "\n",
    "    cm_knn = confusion_matrix(y_valid, knn_predict)\n",
    "    acc_knn = accuracy_score(y_valid, knn_predict)\n",
    "    recall_knn = recall_score(y_valid, knn_predict,average='macro')\n",
    "    precision_knn = precision_score(y_valid, knn_predict,average='macro')\n",
    "    f1_knn = f1_score(y_valid, knn_predict,average='macro')\n",
    "    print(str(k),\" \",\" Acc: \",str(acc_knn), \" || Precision: \",str(precision_knn),\" || Recall: \",str(recall_knn),\" || F1-Score: \",str(f1_knn))\n",
    "    acc_knns.append(acc_knn*100)"
   ]
  },
  {
   "cell_type": "code",
   "execution_count": 25,
   "metadata": {},
   "outputs": [
    {
     "name": "stdout",
     "output_type": "stream",
     "text": [
      "Acc:  95.61830574488802 %\n",
      "F1:  95.61830574488802 %\n",
      "==============================\n",
      "Report\n",
      "              precision    recall  f1-score   support\n",
      "\n",
      "           0       0.96      1.00      0.98       982\n",
      "           1       0.00      0.00      0.00        45\n",
      "\n",
      "   micro avg       0.96      0.96      0.96      1027\n",
      "   macro avg       0.48      0.50      0.49      1027\n",
      "weighted avg       0.91      0.96      0.93      1027\n",
      "\n"
     ]
    },
    {
     "name": "stderr",
     "output_type": "stream",
     "text": [
      "/Users/indraaristya/anaconda3/lib/python3.6/site-packages/sklearn/metrics/classification.py:1143: UndefinedMetricWarning: Precision and F-score are ill-defined and being set to 0.0 in labels with no predicted samples.\n",
      "  'precision', 'predicted', average, warn_for)\n"
     ]
    }
   ],
   "source": [
    "print(\"Acc: \",str(max(acc_knns)),'%')\n",
    "print(\"F1: \",str(max(acc_knns)),'%')\n",
    "print(\"==============================\")\n",
    "print(\"Report\")\n",
    "print(classification_report(y_valid, knn_predict, target_names=['0','1']))"
   ]
  },
  {
   "cell_type": "code",
   "execution_count": 26,
   "metadata": {},
   "outputs": [
    {
     "data": {
      "text/plain": [
       "array([[982,   0],\n",
       "       [ 45,   0]])"
      ]
     },
     "execution_count": 26,
     "metadata": {},
     "output_type": "execute_result"
    }
   ],
   "source": [
    "confusion_matrix(y_valid, knn_predict)"
   ]
  },
  {
   "cell_type": "markdown",
   "metadata": {},
   "source": [
    "### Perbandingan SVM Linear, RBF dan Polynomial"
   ]
  },
  {
   "cell_type": "code",
   "execution_count": null,
   "metadata": {
    "collapsed": true
   },
   "outputs": [],
   "source": [
    "# acc = [linear_acc, rbf_acc, poly_acc]\n",
    "# f1 = [linear_f1, rbf_f1, poly_f1]\n",
    "\n",
    "# objects = ('Linear', 'RBF', 'Polynomial')\n",
    "# y_pos = np.arange(len(objects))\n",
    " \n",
    "# plt.bar(y_pos, acc,align='center', alpha=0.5)\n",
    "# plt.xticks(y_pos, objects)\n",
    "# plt.ylabel('Acc')\n",
    "# plt.title('Perbandingan Nilai Akurasi')\n",
    " \n",
    "# plt.show()"
   ]
  },
  {
   "cell_type": "code",
   "execution_count": null,
   "metadata": {
    "collapsed": true
   },
   "outputs": [],
   "source": [
    "# objects = ('Linear', 'RBF', 'Polynomial')\n",
    "# y_pos = np.arange(len(objects))\n",
    " \n",
    "# plt.bar(y_pos, f1 ,align='center', alpha=0.5)\n",
    "# plt.xticks(y_pos, objects)\n",
    "# plt.ylabel('F1')\n",
    "# plt.title('Perbandingan Nilai F1')\n",
    " \n",
    "# plt.show()"
   ]
  },
  {
   "cell_type": "markdown",
   "metadata": {},
   "source": [
    "### Perbandingan Nilai Akurasi setiap k pada kNN"
   ]
  },
  {
   "cell_type": "code",
   "execution_count": null,
   "metadata": {
    "collapsed": true
   },
   "outputs": [],
   "source": [
    "max_idx = np.argsort(acc_knns)"
   ]
  },
  {
   "cell_type": "code",
   "execution_count": 27,
   "metadata": {},
   "outputs": [
    {
     "data": {
      "image/png": "[encoded data removed]",
      "text/plain": [
       "<matplotlib.figure.Figure at 0x1a112da828>"
      ]
     },
     "metadata": {},
     "output_type": "display_data"
    }
   ],
   "source": [
    "objects = np.arange(1,11)\n",
    "y_pos = np.arange(len(objects))\n",
    " \n",
    "plt.bar(y_pos, acc_knns ,align='center', alpha=0.5)\n",
    "plt.xticks(y_pos, objects)\n",
    "plt.ylabel('Acc')\n",
    "plt.title('Perbandingan Nilai Akurasi')\n",
    " \n",
    "plt.show()"
   ]
  },
  {
   "cell_type": "code",
   "execution_count": 28,
   "metadata": {},
   "outputs": [
    {
     "data": {
      "image/png": "[encoded data removed]",
      "text/plain": [
       "<matplotlib.figure.Figure at 0x1a112dfef0>"
      ]
     },
     "metadata": {},
     "output_type": "display_data"
    }
   ],
   "source": [
    "objects = np.arange(1,11)\n",
    "y_pos = np.arange(len(objects))\n",
    " \n",
    "plt.bar(y_pos, acc_knns_us ,align='center', alpha=0.5)\n",
    "plt.xticks(y_pos, objects)\n",
    "plt.ylabel('Acc')\n",
    "plt.title('Perbandingan Nilai Akurasi')\n",
    " \n",
    "plt.show()"
   ]
  },
  {
   "cell_type": "code",
   "execution_count": 42,
   "metadata": {},
   "outputs": [
    {
     "name": "stdout",
     "output_type": "stream",
     "text": [
      "Acc:  0.952288218111003  || Precision:  0.4780058651026393  || Recall:  0.4979633401221996  || F1-Score:  0.48778054862842896\n"
     ]
    }
   ],
   "source": [
    "from sklearn.neural_network import MLPClassifier\n",
    "mlp = MLPClassifier()\n",
    "mlp.fit(x_train,y_train)\n",
    "predictions = mlp.predict(x_valid)\n",
    "cm_mlp = confusion_matrix(y_valid, predictions)\n",
    "acc_mlp = accuracy_score(y_valid, predictions)\n",
    "recall_mlp = recall_score(y_valid, predictions,average='macro')\n",
    "precision_mlp = precision_score(y_valid, predictions,average='macro')\n",
    "f1_mlp = f1_score(y_valid, predictions,average='macro')\n",
    "print(\"Acc: \",str(acc_mlp), \" || Precision: \",str(precision_mlp),\" || Recall: \",str(recall_mlp),\" || F1-Score: \",str(f1_mlp))\n"
   ]
  },
  {
   "cell_type": "code",
   "execution_count": 43,
   "metadata": {},
   "outputs": [
    {
     "name": "stdout",
     "output_type": "stream",
     "text": [
      "Acc:  0.952288218111003  || Precision:  0.4780058651026393  || Recall:  0.4979633401221996  || F1-Score:  0.48778054862842896\n"
     ]
    }
   ],
   "source": [
    "from sklearn.neural_network import MLPClassifier\n",
    "mlp_us = MLPClassifier()\n",
    "mlp_us.fit(x_train_us,y_train_us)\n",
    "predictions_us = mlp.predict(x_valid)\n",
    "cm_mlp_us = confusion_matrix(y_valid, predictions_us)\n",
    "acc_mlp_us = accuracy_score(y_valid, predictions_us)\n",
    "recall_mlp_us = recall_score(y_valid, predictions_us,average='macro')\n",
    "precision_mlp_us = precision_score(y_valid, predictions_us,average='macro')\n",
    "f1_mlp_us = f1_score(y_valid, predictions_us,average='macro')\n",
    "print(\"Acc: \",str(acc_mlp_us), \" || Precision: \",str(precision_mlp_us),\" || Recall: \",str(recall_mlp_us),\" || F1-Score: \",str(f1_mlp_us))"
   ]
  },
  {
   "cell_type": "code",
   "execution_count": 44,
   "metadata": {},
   "outputs": [
    {
     "data": {
      "image/png": "[encoded data removed]",
      "text/plain": [
       "<matplotlib.figure.Figure at 0x1a1139f390>"
      ]
     },
     "metadata": {},
     "output_type": "display_data"
    }
   ],
   "source": [
    "objects = ['MLP', 'MLP US']\n",
    "y_pos = np.arange(len(objects))\n",
    " \n",
    "plt.bar(y_pos, [acc_mlp*100, acc_mlp_us*100] ,align='center', alpha=0.5)\n",
    "plt.xticks(y_pos, objects)\n",
    "plt.ylabel('Acc')\n",
    "plt.title('Perbandingan Nilai Akurasi')\n",
    " \n",
    "plt.show()"
   ]
  },
  {
   "cell_type": "code",
   "execution_count": null,
   "metadata": {},
   "outputs": [],
   "source": []
  },
  {
   "cell_type": "code",
   "execution_count": null,
   "metadata": {
    "collapsed": true
   },
   "outputs": [],
   "source": []
  }
 ],
 "metadata": {
  "kernelspec": {
   "display_name": "Python 3",
   "language": "python",
   "name": "python3"
  },
  "language_info": {
   "codemirror_mode": {
    "name": "ipython",
    "version": 3
   },
   "file_extension": ".py",
   "mimetype": "text/x-python",
   "name": "python",
   "nbconvert_exporter": "python",
   "pygments_lexer": "ipython3",
   "version": "3.6.3"
  }
 },
 "nbformat": 4,
 "nbformat_minor": 2
}
