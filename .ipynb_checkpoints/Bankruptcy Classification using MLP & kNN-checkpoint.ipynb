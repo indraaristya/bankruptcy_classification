{
 "cells": [
  {
   "cell_type": "code",
   "execution_count": 1,
   "metadata": {},
   "outputs": [
    {
     "name": "stderr",
     "output_type": "stream",
     "text": [
      "/Users/indraaristya/anaconda3/lib/python3.6/importlib/_bootstrap.py:219: RuntimeWarning: numpy.dtype size changed, may indicate binary incompatibility. Expected 96, got 88\n",
      "  return f(*args, **kwds)\n",
      "/Users/indraaristya/anaconda3/lib/python3.6/importlib/_bootstrap.py:219: RuntimeWarning: numpy.dtype size changed, may indicate binary incompatibility. Expected 96, got 88\n",
      "  return f(*args, **kwds)\n",
      "/Users/indraaristya/anaconda3/lib/python3.6/importlib/_bootstrap.py:219: RuntimeWarning: numpy.dtype size changed, may indicate binary incompatibility. Expected 96, got 88\n",
      "  return f(*args, **kwds)\n"
     ]
    }
   ],
   "source": [
    "from scipy.io import arff\n",
    "import numpy as np\n",
    "from sklearn.metrics import accuracy_score, recall_score, precision_score, f1_score, classification_report, confusion_matrix\n",
    "from sklearn.neighbors import KNeighborsClassifier\n",
    "from sklearn.decomposition import PCA\n",
    "import matplotlib.pyplot as plt\n",
    "from scipy.spatial import distance\n",
    "import random"
   ]
  },
  {
   "cell_type": "code",
   "execution_count": 2,
   "metadata": {
    "collapsed": true
   },
   "outputs": [],
   "source": [
    "data_path = './data/1year.arff'\n",
    "data_path2 = './data/2year.arff'\n",
    "data_path3 = './data/3year.arff'\n",
    "data_path4 = './data/4year.arff'\n",
    "data_path5 = './data/5year.arff'"
   ]
  },
  {
   "cell_type": "code",
   "execution_count": 3,
   "metadata": {
    "collapsed": true
   },
   "outputs": [],
   "source": [
    "data, meta = arff.loadarff(data_path)\n",
    "data2, meta2 = arff.loadarff(data_path2)\n",
    "data3, meta3 = arff.loadarff(data_path3)\n",
    "data4, meta4 = arff.loadarff(data_path4)\n",
    "data5, meta5 = arff.loadarff(data_path5)"
   ]
  },
  {
   "cell_type": "code",
   "execution_count": 4,
   "metadata": {},
   "outputs": [
    {
     "data": {
      "text/plain": [
       "9792"
      ]
     },
     "execution_count": 4,
     "metadata": {},
     "output_type": "execute_result"
    }
   ],
   "source": [
    "len(data4)"
   ]
  },
  {
   "cell_type": "code",
   "execution_count": 5,
   "metadata": {
    "collapsed": true
   },
   "outputs": [],
   "source": [
    "def euclidean(x1,x2):\n",
    "     return distance.euclidean(x1, x2)\n",
    "    \n",
    "def knn(x_t,x):\n",
    "    new_data = np.zeros(len(x))\n",
    "    dist = []\n",
    "    for i in range(len(x_t)):\n",
    "        dist.append(euclidean(x,x_t[i]))\n",
    "    indexSorted = np.argsort(dist)\n",
    "    for i in range(0,len(x)):\n",
    "        v = [x_t[indexSorted[0]][i],x_t[indexSorted[1]][i],x_t[indexSorted[2]][i],x_t[indexSorted[4]][i]]\n",
    "        new_data[i] = np.mean(v)\n",
    "    return new_data\n",
    "\n",
    "def handle_imbalance(x_yes, x_no, y_yes):\n",
    "    x = x_yes\n",
    "    y = y_yes\n",
    "    index = np.arange(len(x_yes))\n",
    "    index = list(index)\n",
    "    while len(x) < len(x_no)/2:\n",
    "        idx = random.choice(index)\n",
    "        x.append(knn(x_yes,x_yes[idx]))\n",
    "        y.append(str(int(1)))\n",
    "    return x,y"
   ]
  },
  {
   "cell_type": "code",
   "execution_count": 6,
   "metadata": {
    "collapsed": true
   },
   "outputs": [],
   "source": [
    "arr = np.array(data4)\n",
    "randomize = np.arange(len(arr))\n",
    "np.random.shuffle(randomize)\n",
    "np.random.shuffle(randomize)\n",
    "arr = arr[randomize].tolist()\n",
    "\n",
    "train_data = arr[:6000]\n",
    "valid_data = arr[6000:9792]\n",
    "\n",
    "x_train = []\n",
    "y_train = []\n",
    "x_valid = []\n",
    "y_valid = []"
   ]
  },
  {
   "cell_type": "code",
   "execution_count": 7,
   "metadata": {
    "collapsed": true
   },
   "outputs": [],
   "source": [
    "for i in range(0,len(train_data)):\n",
    "    y = np.array(train_data[i],dtype='float32')\n",
    "    y = np.nan_to_num(y).tolist()\n",
    "    y_train.append(str(int(y[64])))\n",
    "    y.pop()\n",
    "    x_train.append(y)\n",
    "x_train = np.array(x_train)\n",
    "\n",
    "for i in range(0,len(valid_data)):\n",
    "    y = np.array(valid_data[i],dtype='float32')\n",
    "    y = np.nan_to_num(y).tolist()\n",
    "    y_valid.append(str(int(y[64])))\n",
    "    y.pop()\n",
    "    x_valid.append(y)\n",
    "x_valid = np.array(x_valid)"
   ]
  },
  {
   "cell_type": "code",
   "execution_count": 8,
   "metadata": {
    "collapsed": true
   },
   "outputs": [],
   "source": [
    "x_train_yes = []\n",
    "y_train_yes = []\n",
    "x_train_no = []\n",
    "y_train_no = []\n",
    "\n",
    "for i in range(0, len(x_train)):\n",
    "    if y_train[i] == '1':\n",
    "        x_train_yes.append(x_train[i])\n",
    "        y_train_yes.append(y_train[i])\n",
    "    else:\n",
    "        x_train_no.append(x_train[i])\n",
    "        y_train_no.append(y_train[i])"
   ]
  },
  {
   "cell_type": "code",
   "execution_count": 9,
   "metadata": {
    "collapsed": true
   },
   "outputs": [],
   "source": [
    "im_x, im_y = handle_imbalance(x_train_yes,x_train_no,y_train_yes)"
   ]
  },
  {
   "cell_type": "code",
   "execution_count": 10,
   "metadata": {
    "collapsed": true
   },
   "outputs": [],
   "source": [
    "x_train_us = np.concatenate((x_train_no,im_x))\n",
    "y_train_us = np.concatenate((y_train_no,im_y))"
   ]
  },
  {
   "cell_type": "code",
   "execution_count": 11,
   "metadata": {
    "collapsed": true
   },
   "outputs": [],
   "source": [
    "randomize = np.arange(len(x_train_us))\n",
    "np.random.shuffle(randomize)\n",
    "np.random.shuffle(randomize)\n",
    "x_train_us = x_train_us[randomize]\n",
    "y_train_us = y_train_us[randomize]"
   ]
  },
  {
   "cell_type": "code",
   "execution_count": 12,
   "metadata": {},
   "outputs": [
    {
     "data": {
      "text/plain": [
       "PCA(copy=True, iterated_power='auto', n_components=30, random_state=None,\n",
       "  svd_solver='auto', tol=0.0, whiten=False)"
      ]
     },
     "execution_count": 12,
     "metadata": {},
     "output_type": "execute_result"
    }
   ],
   "source": [
    "pca = PCA(n_components=30)\n",
    "pca.fit(x_train)"
   ]
  },
  {
   "cell_type": "code",
   "execution_count": 13,
   "metadata": {
    "collapsed": true
   },
   "outputs": [],
   "source": [
    "x_train = pca.transform(x_train)\n",
    "x_valid = pca.transform(x_valid)\n",
    "x_train_us = pca.transform(x_train_us)"
   ]
  },
  {
   "cell_type": "markdown",
   "metadata": {},
   "source": [
    "### k-NN dengan Oversampling"
   ]
  },
  {
   "cell_type": "code",
   "execution_count": 27,
   "metadata": {},
   "outputs": [
    {
     "name": "stdout",
     "output_type": "stream",
     "text": [
      "1    Acc:  0.8631329113924051  || Precision:  0.5207200140526003  || Recall:  0.5379140222031031  || F1-Score:  0.5223248233336691\n",
      "2    Acc:  0.8947784810126582  || Precision:  0.5238227889893112  || Recall:  0.5287908826793352  || F1-Score:  0.525738353772241\n",
      "3    Acc:  0.8528481012658228  || Precision:  0.5378838578698443  || Recall:  0.5817986092927177  || F1-Score:  0.5432291824073154\n",
      "4    Acc:  0.8676160337552743  || Precision:  0.5357233492562923  || Recall:  0.5661126281707586  || F1-Score:  0.5415326368116067\n",
      "5    Acc:  0.8367616033755274  || Precision:  0.5400093934514224  || Recall:  0.5991367307156781  || F1-Score:  0.5436692696349721\n",
      "6    Acc:  0.8478375527426161  || Precision:  0.5381884002818541  || Recall:  0.5861980822703525  || F1-Score:  0.5430137295302385\n",
      "7    Acc:  0.8193565400843882  || Precision:  0.5346460486676743  || Recall:  0.5946437403625149  || F1-Score:  0.5331814245198365\n",
      "8    Acc:  0.834915611814346  || Precision:  0.5383804272723993  || Recall:  0.5958137466385699  || F1-Score:  0.5412171527923267\n",
      "9    Acc:  0.8072257383966245  || Precision:  0.534902842885226  || Recall:  0.6023287904670466  || F1-Score:  0.5306027101220031\n",
      "10    Acc:  0.8193565400843882  || Precision:  0.5338740186307611  || Recall:  0.5922954151548024  || F1-Score:  0.5321826164901341\n"
     ]
    }
   ],
   "source": [
    "kx = np.arange(1,11)\n",
    "acc_knns_us = []\n",
    "for k in kx:\n",
    "    neigh_us = KNeighborsClassifier(n_neighbors=k)\n",
    "    neigh_us.fit(x_train_us, y_train_us) \n",
    "    knn_predict = neigh_us.predict(x_valid)\n",
    "\n",
    "    cm_knn = confusion_matrix(y_valid, knn_predict)\n",
    "    acc_knn = accuracy_score(y_valid, knn_predict)\n",
    "    recall_knn = recall_score(y_valid, knn_predict,average='macro')\n",
    "    precision_knn = precision_score(y_valid, knn_predict,average='macro')\n",
    "    f1_knn = f1_score(y_valid, knn_predict,average='macro')\n",
    "    print(str(k),\" \",\" Acc: \",str(acc_knn), \" || Precision: \",str(precision_knn),\" || Recall: \",str(recall_knn),\" || F1-Score: \",str(f1_knn))\n",
    "    acc_knns_us.append(acc_knn*100)"
   ]
  },
  {
   "cell_type": "code",
   "execution_count": 28,
   "metadata": {},
   "outputs": [
    {
     "name": "stdout",
     "output_type": "stream",
     "text": [
      "Acc:  89.47784810126582 %\n",
      "F1:  89.47784810126582 %\n",
      "==============================\n",
      "Report\n",
      "              precision    recall  f1-score   support\n",
      "\n",
      "           0       0.96      0.85      0.90      3591\n",
      "           1       0.11      0.34      0.17       201\n",
      "\n",
      "   micro avg       0.82      0.82      0.82      3792\n",
      "   macro avg       0.53      0.59      0.53      3792\n",
      "weighted avg       0.91      0.82      0.86      3792\n",
      "\n"
     ]
    }
   ],
   "source": [
    "print(\"Acc: \",str(max(acc_knns_us)),'%')\n",
    "print(\"F1: \",str(max(acc_knns_us)),'%')\n",
    "print(\"==============================\")\n",
    "print(\"Report\")\n",
    "print(classification_report(y_valid, knn_predict, target_names=['0','1']))"
   ]
  },
  {
   "cell_type": "code",
   "execution_count": 29,
   "metadata": {},
   "outputs": [
    {
     "data": {
      "text/plain": [
       "array([[3039,  552],\n",
       "       [ 133,   68]])"
      ]
     },
     "execution_count": 29,
     "metadata": {},
     "output_type": "execute_result"
    }
   ],
   "source": [
    "confusion_matrix(y_valid, knn_predict)"
   ]
  },
  {
   "cell_type": "markdown",
   "metadata": {},
   "source": [
    "### kNN tanpa oversampling"
   ]
  },
  {
   "cell_type": "code",
   "execution_count": 30,
   "metadata": {},
   "outputs": [
    {
     "name": "stdout",
     "output_type": "stream",
     "text": [
      "1    Acc:  0.9087552742616034  || Precision:  0.528963951475734  || Recall:  0.5267771418596242  || F1-Score:  0.5277790174875865\n",
      "2    Acc:  0.942246835443038  || Precision:  0.5362261146496815  || Recall:  0.504538709958977  || F1-Score:  0.49845359423834756\n",
      "3    Acc:  0.9356540084388185  || Precision:  0.5354329599098147  || Recall:  0.5104510862562709  || F1-Score:  0.5104787662927198\n",
      "4    Acc:  0.944620253164557  || Precision:  0.5915543435917413  || Recall:  0.5081401679987697  || F1-Score:  0.5040939401714298\n",
      "5    Acc:  0.942246835443038  || Precision:  0.5740829346092504  || Recall:  0.5115836855821145  || F1-Score:  0.5110821451090729\n",
      "6    Acc:  0.9448839662447257  || Precision:  0.5570105820105821  || Recall:  0.503582754564687  || F1-Score:  0.4952124905176548\n",
      "7    Acc:  0.9440928270042194  || Precision:  0.579156611380027  || Recall:  0.5078616940360852  || F1-Score:  0.5037874672855661\n",
      "8    Acc:  0.9451476793248945  || Precision:  0.47344782034346106  || Recall:  0.49902534113060426  || F1-Score:  0.48590021691973967\n",
      "9    Acc:  0.9438291139240507  || Precision:  0.5092452544808289  || Recall:  0.5006774814316055  || F1-Score:  0.4901987269106597\n",
      "10    Acc:  0.9451476793248945  || Precision:  0.5291215085029518  || Recall:  0.5013736663383168  || F1-Score:  0.4906582974931225\n"
     ]
    }
   ],
   "source": [
    "kx = np.arange(1,11)\n",
    "acc_knns = []\n",
    "for k in kx:\n",
    "    neigh = KNeighborsClassifier(n_neighbors=k)\n",
    "    neigh.fit(x_train, y_train) \n",
    "    knn_predict = neigh.predict(x_valid)\n",
    "\n",
    "    cm_knn = confusion_matrix(y_valid, knn_predict)\n",
    "    acc_knn = accuracy_score(y_valid, knn_predict)\n",
    "    recall_knn = recall_score(y_valid, knn_predict,average='macro')\n",
    "    precision_knn = precision_score(y_valid, knn_predict,average='macro')\n",
    "    f1_knn = f1_score(y_valid, knn_predict,average='macro')\n",
    "    print(str(k),\" \",\" Acc: \",str(acc_knn), \" || Precision: \",str(precision_knn),\" || Recall: \",str(recall_knn),\" || F1-Score: \",str(f1_knn))\n",
    "    acc_knns.append(acc_knn*100)"
   ]
  },
  {
   "cell_type": "code",
   "execution_count": 31,
   "metadata": {},
   "outputs": [
    {
     "name": "stdout",
     "output_type": "stream",
     "text": [
      "Acc:  94.51476793248945 %\n",
      "F1:  94.51476793248945 %\n",
      "==============================\n",
      "Report\n",
      "              precision    recall  f1-score   support\n",
      "\n",
      "           0       0.95      1.00      0.97      3591\n",
      "           1       0.11      0.00      0.01       201\n",
      "\n",
      "   micro avg       0.95      0.95      0.95      3792\n",
      "   macro avg       0.53      0.50      0.49      3792\n",
      "weighted avg       0.90      0.95      0.92      3792\n",
      "\n"
     ]
    }
   ],
   "source": [
    "print(\"Acc: \",str(max(acc_knns)),'%')\n",
    "print(\"F1: \",str(max(acc_knns)),'%')\n",
    "print(\"==============================\")\n",
    "print(\"Report\")\n",
    "print(classification_report(y_valid, knn_predict, target_names=['0','1']))"
   ]
  },
  {
   "cell_type": "code",
   "execution_count": 32,
   "metadata": {},
   "outputs": [
    {
     "data": {
      "text/plain": [
       "array([[3583,    8],\n",
       "       [ 200,    1]])"
      ]
     },
     "execution_count": 32,
     "metadata": {},
     "output_type": "execute_result"
    }
   ],
   "source": [
    "confusion_matrix(y_valid, knn_predict)"
   ]
  },
  {
   "cell_type": "markdown",
   "metadata": {},
   "source": [
    "### Perbandingan Nilai Akurasi setiap k pada kNN tanpa oversampling"
   ]
  },
  {
   "cell_type": "code",
   "execution_count": 33,
   "metadata": {
    "collapsed": true
   },
   "outputs": [],
   "source": [
    "max_idx = np.argsort(acc_knns)"
   ]
  },
  {
   "cell_type": "code",
   "execution_count": 34,
   "metadata": {},
   "outputs": [
    {
     "data": {
      "image/png": "[encoded data removed]",
      "text/plain": [
       "<matplotlib.figure.Figure at 0x1a111ee3c8>"
      ]
     },
     "metadata": {},
     "output_type": "display_data"
    }
   ],
   "source": [
    "objects = np.arange(1,11)\n",
    "y_pos = np.arange(len(objects))\n",
    " \n",
    "plt.bar(y_pos, acc_knns ,align='center', alpha=0.5)\n",
    "plt.xticks(y_pos, objects)\n",
    "plt.ylabel('Acc')\n",
    "plt.title('Perbandingan Nilai Akurasi')\n",
    " \n",
    "plt.show()"
   ]
  },
  {
   "cell_type": "markdown",
   "metadata": {},
   "source": [
    "### Perbandingan Nilai Akurasi setiap k pada kNN dengan oversampling"
   ]
  },
  {
   "cell_type": "code",
   "execution_count": 35,
   "metadata": {},
   "outputs": [
    {
     "data": {
      "image/png": "[encoded data removed]",
      "text/plain": [
       "<matplotlib.figure.Figure at 0x1a111cfc50>"
      ]
     },
     "metadata": {},
     "output_type": "display_data"
    }
   ],
   "source": [
    "objects = np.arange(1,11)\n",
    "y_pos = np.arange(len(objects))\n",
    " \n",
    "plt.bar(y_pos, acc_knns_us ,align='center', alpha=0.5)\n",
    "plt.xticks(y_pos, objects)\n",
    "plt.ylabel('Acc')\n",
    "plt.title('Perbandingan Nilai Akurasi')\n",
    " \n",
    "plt.show()"
   ]
  },
  {
   "cell_type": "markdown",
   "metadata": {},
   "source": [
    "### MLP tanpa oversampling"
   ]
  },
  {
   "cell_type": "code",
   "execution_count": 23,
   "metadata": {},
   "outputs": [
    {
     "name": "stdout",
     "output_type": "stream",
     "text": [
      "Acc:  0.9106012658227848  || Precision:  0.521520446941891  || Recall:  0.51835849989817  || F1-Score:  0.5196274471482495\n"
     ]
    }
   ],
   "source": [
    "from sklearn.neural_network import MLPClassifier\n",
    "mlp = MLPClassifier()\n",
    "mlp.fit(x_train,y_train)\n",
    "predictions = mlp.predict(x_valid)\n",
    "cm_mlp = confusion_matrix(y_valid, predictions)\n",
    "acc_mlp = accuracy_score(y_valid, predictions)\n",
    "recall_mlp = recall_score(y_valid, predictions,average='macro')\n",
    "precision_mlp = precision_score(y_valid, predictions,average='macro')\n",
    "f1_mlp = f1_score(y_valid, predictions,average='macro')\n",
    "print(\"Acc: \",str(acc_mlp), \" || Precision: \",str(precision_mlp),\" || Recall: \",str(recall_mlp),\" || F1-Score: \",str(f1_mlp))\n"
   ]
  },
  {
   "cell_type": "markdown",
   "metadata": {},
   "source": [
    "### MLP dengan oversampling"
   ]
  },
  {
   "cell_type": "code",
   "execution_count": 24,
   "metadata": {},
   "outputs": [
    {
     "name": "stdout",
     "output_type": "stream",
     "text": [
      "Acc:  0.6901371308016878  || Precision:  0.5285501796898271  || Recall:  0.6226989530210268  || F1-Score:  0.48392656412608565\n"
     ]
    }
   ],
   "source": [
    "from sklearn.neural_network import MLPClassifier\n",
    "mlp_us = MLPClassifier()\n",
    "mlp_us.fit(x_train_us,y_train_us)\n",
    "predictions_us = mlp_us.predict(x_valid)\n",
    "cm_mlp_us = confusion_matrix(y_valid, predictions_us)\n",
    "acc_mlp_us = accuracy_score(y_valid, predictions_us)\n",
    "recall_mlp_us = recall_score(y_valid, predictions_us,average='macro')\n",
    "precision_mlp_us = precision_score(y_valid, predictions_us,average='macro')\n",
    "f1_mlp_us = f1_score(y_valid, predictions_us,average='macro')\n",
    "print(\"Acc: \",str(acc_mlp_us), \" || Precision: \",str(precision_mlp_us),\" || Recall: \",str(recall_mlp_us),\" || F1-Score: \",str(f1_mlp_us))"
   ]
  },
  {
   "cell_type": "markdown",
   "metadata": {},
   "source": [
    "### Perbandingan Nilai Akurasi pada MLP tanpa oversampling dan dengan oversampling"
   ]
  },
  {
   "cell_type": "code",
   "execution_count": 25,
   "metadata": {},
   "outputs": [
    {
     "data": {
      "image/png": "[encoded data removed]",
      "text/plain": [
       "<matplotlib.figure.Figure at 0x1a11a15d30>"
      ]
     },
     "metadata": {},
     "output_type": "display_data"
    }
   ],
   "source": [
    "objects = ['MLP', 'MLP US']\n",
    "y_pos = np.arange(len(objects))\n",
    " \n",
    "plt.bar(y_pos, [acc_mlp*100, acc_mlp_us*100] ,align='center', alpha=0.5)\n",
    "plt.xticks(y_pos, objects)\n",
    "plt.ylabel('Acc')\n",
    "plt.title('Perbandingan Nilai Akurasi')\n",
    " \n",
    "plt.show()"
   ]
  },
  {
   "cell_type": "code",
   "execution_count": 54,
   "metadata": {},
   "outputs": [],
   "source": [
    "import pickle\n",
    "filename = 'mlp.sav'\n",
    "pickle.dump(mlp, open(filename, 'wb'))\n",
    "\n",
    "filename = 'mlp_us.sav'\n",
    "pickle.dump(mlp_us, open(filename, 'wb'))\n",
    "\n",
    "filename = 'knn.sav'\n",
    "pickle.dump(neigh, open(filename, 'wb'))\n",
    "\n",
    "filename = 'knn_us.sav'\n",
    "pickle.dump(neigh_us, open(filename, 'wb'))\n",
    "\n",
    "filename = 'pca.sav'\n",
    "pickle.dump(pca, open(filename, 'wb'))"
   ]
  },
  {
   "cell_type": "markdown",
   "metadata": {},
   "source": [
    "### Pengujian"
   ]
  },
  {
   "cell_type": "code",
   "execution_count": 81,
   "metadata": {},
   "outputs": [],
   "source": [
    "test_result = []\n",
    "x_test = []\n",
    "y_test = []\n",
    "arr = np.array(data).tolist()\n",
    "arr = np.concatenate((arr,np.array(data2).tolist()))\n",
    "arr = np.concatenate((arr,np.array(data3).tolist()))\n",
    "arr = np.concatenate((arr,np.array(data5).tolist()))\n",
    "\n",
    "for i in range(0,len(arr)):\n",
    "    y = np.array(arr[i],dtype='float32')\n",
    "#     y = arr[i]\n",
    "    y = np.nan_to_num(y).tolist()\n",
    "    y_test.append(str(int(y[64])))\n",
    "    y.pop()\n",
    "    x_test.append(y)\n",
    "x_test = np.array(x_test)"
   ]
  },
  {
   "cell_type": "code",
   "execution_count": 82,
   "metadata": {},
   "outputs": [],
   "source": [
    "loaded_model = pickle.load(open('pca.sav', 'rb'))\n",
    "x_test = loaded_model.transform(x_test)"
   ]
  },
  {
   "cell_type": "code",
   "execution_count": 83,
   "metadata": {},
   "outputs": [],
   "source": [
    "loaded_model = pickle.load(open('knn.sav', 'rb'))\n",
    "result = loaded_model.score(x_test, y_test)\n",
    "test_result.append(result*100)"
   ]
  },
  {
   "cell_type": "code",
   "execution_count": 84,
   "metadata": {},
   "outputs": [],
   "source": [
    "loaded_model = pickle.load(open('knn_us.sav', 'rb'))\n",
    "result = loaded_model.score(x_test, y_test)\n",
    "test_result.append(result*100)"
   ]
  },
  {
   "cell_type": "code",
   "execution_count": 85,
   "metadata": {},
   "outputs": [],
   "source": [
    "loaded_model = pickle.load(open('mlp.sav', 'rb'))\n",
    "result = loaded_model.score(x_test, y_test)\n",
    "test_result.append(result*100)"
   ]
  },
  {
   "cell_type": "code",
   "execution_count": 86,
   "metadata": {},
   "outputs": [],
   "source": [
    "loaded_model = pickle.load(open('mlp_us.sav', 'rb'))\n",
    "result = loaded_model.score(x_test, y_test)\n",
    "test_result.append(result*100)"
   ]
  },
  {
   "cell_type": "code",
   "execution_count": 87,
   "metadata": {},
   "outputs": [
    {
     "data": {
      "image/png": "[encoded data removed]",
      "text/plain": [
       "<matplotlib.figure.Figure at 0x1a11367278>"
      ]
     },
     "metadata": {},
     "output_type": "display_data"
    }
   ],
   "source": [
    "objects = ['KNN', 'KNN US','MLP', 'MLP US']\n",
    "y_pos = np.arange(len(objects))\n",
    " \n",
    "plt.bar(y_pos, test_result ,align='center', alpha=0.5)\n",
    "plt.xticks(y_pos, objects)\n",
    "plt.ylabel('Acc')\n",
    "plt.title('Perbandingan Nilai Akurasi')\n",
    " \n",
    "plt.show()"
   ]
  },
  {
   "cell_type": "code",
   "execution_count": 92,
   "metadata": {},
   "outputs": [
    {
     "data": {
      "text/plain": [
       "[95.22506173206796, 81.98613631630619, 91.88111742480588, 70.90113944009758]"
      ]
     },
     "execution_count": 92,
     "metadata": {},
     "output_type": "execute_result"
    }
   ],
   "source": [
    "test_result"
   ]
  },
  {
   "cell_type": "code",
   "execution_count": null,
   "metadata": {
    "collapsed": true
   },
   "outputs": [],
   "source": []
  }
 ],
 "metadata": {
  "kernelspec": {
   "display_name": "Python 3",
   "language": "python",
   "name": "python3"
  },
  "language_info": {
   "codemirror_mode": {
    "name": "ipython",
    "version": 3
   },
   "file_extension": ".py",
   "mimetype": "text/x-python",
   "name": "python",
   "nbconvert_exporter": "python",
   "pygments_lexer": "ipython3",
   "version": "3.6.3"
  }
 },
 "nbformat": 4,
 "nbformat_minor": 2
}
